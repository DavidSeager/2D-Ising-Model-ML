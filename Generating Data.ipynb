{
 "cells": [
  {
   "cell_type": "code",
   "execution_count": 1,
   "id": "4da10c73",
   "metadata": {},
   "outputs": [],
   "source": [
    "from numba.experimental import jitclass\n",
    "import numba as nb\n",
    "import numpy as np\n",
    "\n",
    "spec = [\n",
    "    ('J',     nb.float64),\n",
    "    ('kb',    nb.float64),\n",
    "    ('size',  nb.int64),\n",
    "    ('temp',  nb.float64),\n",
    "    ('beta',  nb.float64),\n",
    "    ('system', nb.int8[:, :]),\n",
    "]\n",
    "\n",
    "@jitclass(spec)\n",
    "class Ising:\n",
    "    def __init__(self, size, temp, J=1.0, kb=1.0):\n",
    "        self.J, self.kb = J, kb\n",
    "        self.size, self.temp = size, temp\n",
    "        self.beta   = 1.0 / (kb * temp)\n",
    "        self.system = np.random.choice(np.int8([-1, 1]), size=(size, size))\n",
    "\n",
    "    def LocalEnergy(self, x, y):\n",
    "        L = self.size\n",
    "        s = self.system[x, y]\n",
    "        nn = self.system[x, (y+1)%L] + self.system[x, (y-1)%L] + \\\n",
    "             self.system[(x+1)%L, y] + self.system[(x-1)%L, y]\n",
    "        return -self.J * s * nn\n",
    "\n",
    "    def Glauber(self):\n",
    "        L = self.size\n",
    "        x = np.random.randint(L)\n",
    "        y = np.random.randint(L)\n",
    "        dE = -2.0 * self.LocalEnergy(x, y)\n",
    "        if dE <= 0 or np.random.random() < np.exp(-self.beta * dE):\n",
    "            self.system[x, y] = -self.system[x, y]\n",
    "\n",
    "    def Simulate(self, sweeps=1):\n",
    "        for _ in range(sweeps * self.size * self.size):\n",
    "            self.Glauber()\n"
   ]
  },
  {
   "cell_type": "code",
   "execution_count": 2,
   "id": "c773beb4",
   "metadata": {},
   "outputs": [],
   "source": [
    "size = 50\n",
    "temps = np.linspace(1.0, 4.0, 50)\n",
    "timetoequilibrium = 10000\n",
    "nofsamplespertemp = 500\n",
    "gapbetweensamples = 100\n",
    "\n",
    "for temp in temps:\n",
    "    ising = Ising(size, temp)\n",
    "    lattices = []\n",
    "    \n",
    "    for i in range(timetoequilibrium):\n",
    "        ising.Simulate()\n",
    "    \n",
    "    lattices.append(ising.system.copy())\n",
    "    \n",
    "    for i in range(nofsamplespertemp-1):\n",
    "        for j in range(gapbetweensamples):\n",
    "            ising.Simulate()\n",
    "        \n",
    "        lattices.append(ising.system.copy())\n",
    "        \n",
    "    lattices = np.array(lattices, dtype=np.int8)\n",
    "    np.save(f\"/Users/davidseager/Desktop/Programming/Ising/Data/Ising Systems/L{size}_T{temp:.3f}.npy\", lattices)\n",
    "\n",
    "np.save(\"/Users/davidseager/Desktop/Programming/Ising/Data/temperatures.npy\", temps)\n",
    "    "
   ]
  }
 ],
 "metadata": {
  "kernelspec": {
   "display_name": "Python 3 (ipykernel)",
   "language": "python",
   "name": "python3"
  },
  "language_info": {
   "codemirror_mode": {
    "name": "ipython",
    "version": 3
   },
   "file_extension": ".py",
   "mimetype": "text/x-python",
   "name": "python",
   "nbconvert_exporter": "python",
   "pygments_lexer": "ipython3",
   "version": "3.9.16"
  }
 },
 "nbformat": 4,
 "nbformat_minor": 5
}
